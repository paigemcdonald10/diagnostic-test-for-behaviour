{
 "cells": [
  {
   "cell_type": "markdown",
   "metadata": {},
   "source": [
    "# Data Import and Cleaning"
   ]
  },
  {
   "cell_type": "code",
   "execution_count": 1,
   "metadata": {},
   "outputs": [],
   "source": [
    "# import basic libraries\n",
    "import numpy as np\n",
    "import pandas as pd\n",
    "import matplotlib.pyplot as plt\n",
    "%matplotlib inline\n",
    "import seaborn as sns\n",
    "\n",
    "# ignore SettingWithCopyWarning and FutureWarning\n",
    "pd.options.mode.chained_assignment = None\n",
    "import warnings\n",
    "warnings.simplefilter(action='ignore', category=FutureWarning)"
   ]
  },
  {
   "cell_type": "code",
   "execution_count": 2,
   "metadata": {},
   "outputs": [
    {
     "data": {
      "text/html": [
       "<div>\n",
       "<style scoped>\n",
       "    .dataframe tbody tr th:only-of-type {\n",
       "        vertical-align: middle;\n",
       "    }\n",
       "\n",
       "    .dataframe tbody tr th {\n",
       "        vertical-align: top;\n",
       "    }\n",
       "\n",
       "    .dataframe thead th {\n",
       "        text-align: right;\n",
       "    }\n",
       "</style>\n",
       "<table border=\"1\" class=\"dataframe\">\n",
       "  <thead>\n",
       "    <tr style=\"text-align: right;\">\n",
       "      <th></th>\n",
       "      <th>trans</th>\n",
       "      <th>cow</th>\n",
       "      <th>bin</th>\n",
       "      <th>timein</th>\n",
       "      <th>timeout</th>\n",
       "      <th>sec</th>\n",
       "      <th>kgin</th>\n",
       "      <th>kgout</th>\n",
       "      <th>kg</th>\n",
       "      <th>date</th>\n",
       "      <th>dt_in</th>\n",
       "      <th>dt_out</th>\n",
       "    </tr>\n",
       "  </thead>\n",
       "  <tbody>\n",
       "    <tr>\n",
       "      <td>0</td>\n",
       "      <td>0</td>\n",
       "      <td>0</td>\n",
       "      <td>6</td>\n",
       "      <td>00:03:14</td>\n",
       "      <td>00:03:24</td>\n",
       "      <td>10</td>\n",
       "      <td>42.0</td>\n",
       "      <td>42.0</td>\n",
       "      <td>0.0</td>\n",
       "      <td>2013-09-11</td>\n",
       "      <td>2013-09-11 00:03:14</td>\n",
       "      <td>2013-09-11 00:03:24</td>\n",
       "    </tr>\n",
       "    <tr>\n",
       "      <td>1</td>\n",
       "      <td>0</td>\n",
       "      <td>0</td>\n",
       "      <td>5</td>\n",
       "      <td>00:03:14</td>\n",
       "      <td>00:03:24</td>\n",
       "      <td>10</td>\n",
       "      <td>40.7</td>\n",
       "      <td>40.7</td>\n",
       "      <td>0.0</td>\n",
       "      <td>2013-09-11</td>\n",
       "      <td>2013-09-11 00:03:14</td>\n",
       "      <td>2013-09-11 00:03:24</td>\n",
       "    </tr>\n",
       "    <tr>\n",
       "      <td>2</td>\n",
       "      <td>0</td>\n",
       "      <td>0</td>\n",
       "      <td>7</td>\n",
       "      <td>00:03:14</td>\n",
       "      <td>00:03:24</td>\n",
       "      <td>10</td>\n",
       "      <td>36.6</td>\n",
       "      <td>36.6</td>\n",
       "      <td>0.0</td>\n",
       "      <td>2013-09-11</td>\n",
       "      <td>2013-09-11 00:03:14</td>\n",
       "      <td>2013-09-11 00:03:24</td>\n",
       "    </tr>\n",
       "    <tr>\n",
       "      <td>3</td>\n",
       "      <td>0</td>\n",
       "      <td>0</td>\n",
       "      <td>8</td>\n",
       "      <td>00:03:14</td>\n",
       "      <td>00:03:24</td>\n",
       "      <td>10</td>\n",
       "      <td>38.1</td>\n",
       "      <td>38.1</td>\n",
       "      <td>0.0</td>\n",
       "      <td>2013-09-11</td>\n",
       "      <td>2013-09-11 00:03:14</td>\n",
       "      <td>2013-09-11 00:03:24</td>\n",
       "    </tr>\n",
       "    <tr>\n",
       "      <td>4</td>\n",
       "      <td>0</td>\n",
       "      <td>0</td>\n",
       "      <td>9</td>\n",
       "      <td>00:03:14</td>\n",
       "      <td>00:03:24</td>\n",
       "      <td>10</td>\n",
       "      <td>26.3</td>\n",
       "      <td>26.3</td>\n",
       "      <td>0.0</td>\n",
       "      <td>2013-09-11</td>\n",
       "      <td>2013-09-11 00:03:14</td>\n",
       "      <td>2013-09-11 00:03:24</td>\n",
       "    </tr>\n",
       "  </tbody>\n",
       "</table>\n",
       "</div>"
      ],
      "text/plain": [
       "   trans  cow  bin   timein  timeout  sec  kgin  kgout   kg       date  \\\n",
       "0      0    0    6 00:03:14 00:03:24   10  42.0   42.0  0.0 2013-09-11   \n",
       "1      0    0    5 00:03:14 00:03:24   10  40.7   40.7  0.0 2013-09-11   \n",
       "2      0    0    7 00:03:14 00:03:24   10  36.6   36.6  0.0 2013-09-11   \n",
       "3      0    0    8 00:03:14 00:03:24   10  38.1   38.1  0.0 2013-09-11   \n",
       "4      0    0    9 00:03:14 00:03:24   10  26.3   26.3  0.0 2013-09-11   \n",
       "\n",
       "                dt_in              dt_out  \n",
       "0 2013-09-11 00:03:14 2013-09-11 00:03:24  \n",
       "1 2013-09-11 00:03:14 2013-09-11 00:03:24  \n",
       "2 2013-09-11 00:03:14 2013-09-11 00:03:24  \n",
       "3 2013-09-11 00:03:14 2013-09-11 00:03:24  \n",
       "4 2013-09-11 00:03:14 2013-09-11 00:03:24  "
      ]
     },
     "execution_count": 2,
     "metadata": {},
     "output_type": "execute_result"
    }
   ],
   "source": [
    "# import data from electronic bins\n",
    "import os\n",
    "import glob\n",
    "\n",
    "columns = ['trans', 'cow', 'bin', 'timein', 'timeout', 'sec', 'kgin', 'kgout', 'kg']\n",
    "globbed_files = glob.glob('bins0913/*.DAT')\n",
    "data = []\n",
    "for dat in globbed_files:\n",
    "    frame = pd.read_csv(dat, sep=',', header=None, names = columns)\n",
    "    frame['date'] = os.path.basename(dat) # filename contains date\n",
    "    frame['date'] = frame['date'].replace({'VW': '', '.DAT': ''}, regex=True) # separate out date from filename\n",
    "    frame['timein'] = frame['timein'].replace({' ': '0'}, regex=True) # add zero padding to hours\n",
    "    frame['timeout'] = frame['timeout'].replace({' ': '0'}, regex=True) # add zero padding to hours\n",
    "    frame['date'] = pd.to_datetime(frame['date']) # convert date and time into correct formats\n",
    "    frame['timein'] = pd.to_timedelta(frame['timein'])\n",
    "    frame['timeout'] = pd.to_timedelta(frame['timeout'])\n",
    "    frame['dt_in'] = frame['date'] + frame['timein']\n",
    "    frame['dt_out'] = frame['date'] + frame['timeout']\n",
    "    data.append(frame)\n",
    "\n",
    "bins = pd.concat(data, ignore_index=True)\n",
    "bins.head()"
   ]
  },
  {
   "cell_type": "code",
   "execution_count": 3,
   "metadata": {
    "scrolled": true
   },
   "outputs": [
    {
     "data": {
      "text/html": [
       "<div>\n",
       "<style scoped>\n",
       "    .dataframe tbody tr th:only-of-type {\n",
       "        vertical-align: middle;\n",
       "    }\n",
       "\n",
       "    .dataframe tbody tr th {\n",
       "        vertical-align: top;\n",
       "    }\n",
       "\n",
       "    .dataframe thead th {\n",
       "        text-align: right;\n",
       "    }\n",
       "</style>\n",
       "<table border=\"1\" class=\"dataframe\">\n",
       "  <thead>\n",
       "    <tr style=\"text-align: right;\">\n",
       "      <th></th>\n",
       "      <th>date</th>\n",
       "      <th>cow</th>\n",
       "      <th>bin</th>\n",
       "      <th>timein</th>\n",
       "      <th>timeout</th>\n",
       "      <th>intervalR</th>\n",
       "    </tr>\n",
       "  </thead>\n",
       "  <tbody>\n",
       "    <tr>\n",
       "      <td>0</td>\n",
       "      <td>2013-09-12</td>\n",
       "      <td>1100</td>\n",
       "      <td>1</td>\n",
       "      <td>00:06:10</td>\n",
       "      <td>00:06:40</td>\n",
       "      <td>25</td>\n",
       "    </tr>\n",
       "    <tr>\n",
       "      <td>1</td>\n",
       "      <td>2013-09-12</td>\n",
       "      <td>5103</td>\n",
       "      <td>1</td>\n",
       "      <td>00:07:05</td>\n",
       "      <td>00:07:58</td>\n",
       "      <td>160</td>\n",
       "    </tr>\n",
       "    <tr>\n",
       "      <td>2</td>\n",
       "      <td>2013-09-12</td>\n",
       "      <td>9029</td>\n",
       "      <td>1</td>\n",
       "      <td>00:10:38</td>\n",
       "      <td>00:10:45</td>\n",
       "      <td>54</td>\n",
       "    </tr>\n",
       "    <tr>\n",
       "      <td>3</td>\n",
       "      <td>2013-09-12</td>\n",
       "      <td>1097</td>\n",
       "      <td>1</td>\n",
       "      <td>00:11:39</td>\n",
       "      <td>00:11:56</td>\n",
       "      <td>105</td>\n",
       "    </tr>\n",
       "    <tr>\n",
       "      <td>4</td>\n",
       "      <td>2013-09-12</td>\n",
       "      <td>1038</td>\n",
       "      <td>1</td>\n",
       "      <td>00:13:41</td>\n",
       "      <td>00:15:29</td>\n",
       "      <td>88</td>\n",
       "    </tr>\n",
       "  </tbody>\n",
       "</table>\n",
       "</div>"
      ],
      "text/plain": [
       "        date   cow  bin   timein  timeout  intervalR\n",
       "0 2013-09-12  1100    1 00:06:10 00:06:40         25\n",
       "1 2013-09-12  5103    1 00:07:05 00:07:58        160\n",
       "2 2013-09-12  9029    1 00:10:38 00:10:45         54\n",
       "3 2013-09-12  1097    1 00:11:39 00:11:56        105\n",
       "4 2013-09-12  1038    1 00:13:41 00:15:29         88"
      ]
     },
     "execution_count": 3,
     "metadata": {},
     "output_type": "execute_result"
    }
   ],
   "source": [
    "# sort data by bin and datetime \n",
    "bins.sort_values(by = ['bin','dt_in'], inplace = True)\n",
    "\n",
    "# drop calibration data and data from bins not in study\n",
    "indexNames = bins[(bins['trans'] == 0) | (bins['sec'] == 0) | (bins['cow'] == 0) | (bins['bin'] > 2)].index\n",
    "bins.drop(indexNames, axis = 0, inplace = True)\n",
    "\n",
    "# shift timeout down one cell to get interval between consecutive visits at 1 bin\n",
    "bins['timelag'] = bins['dt_out'].shift(periods = 1)\n",
    "\n",
    "# calcualte interval between consecutive visits at 1 bin\n",
    "bins['intervalA'] = bins['dt_in'] - bins['timelag']\n",
    "\n",
    "#shift intervalA up 1 cell to get intervalR\n",
    "bins['intervalR'] = bins['intervalA'].shift(-1)\n",
    "\n",
    "#only need dates 2013-09-12 to 2013-09-15\n",
    "bins = bins[(bins['date'] > '2013-09-11') &(bins['date'] < '2013-09-16')]\n",
    "\n",
    "bins.reset_index(drop=True, inplace=True)\n",
    "\n",
    "#only keep columns needed\n",
    "bins = bins[['date','cow','bin','timein', 'timeout','intervalR']]\n",
    "\n",
    "#convert intervalR into seconds\n",
    "bins['intervalR'] = (bins['intervalR'] / np.timedelta64(1, 's')).astype(int)\n",
    "bins.head()"
   ]
  },
  {
   "cell_type": "code",
   "execution_count": 4,
   "metadata": {},
   "outputs": [],
   "source": [
    "# the processed electronically generated data is then exported to be paired with video scoring in excel\n",
    "bins.to_csv('bins.csv')"
   ]
  },
  {
   "cell_type": "code",
   "execution_count": 5,
   "metadata": {},
   "outputs": [
    {
     "data": {
      "text/html": [
       "<div>\n",
       "<style scoped>\n",
       "    .dataframe tbody tr th:only-of-type {\n",
       "        vertical-align: middle;\n",
       "    }\n",
       "\n",
       "    .dataframe tbody tr th {\n",
       "        vertical-align: top;\n",
       "    }\n",
       "\n",
       "    .dataframe thead th {\n",
       "        text-align: right;\n",
       "    }\n",
       "</style>\n",
       "<table border=\"1\" class=\"dataframe\">\n",
       "  <thead>\n",
       "    <tr style=\"text-align: right;\">\n",
       "      <th></th>\n",
       "      <th>date</th>\n",
       "      <th>cow</th>\n",
       "      <th>intervalR</th>\n",
       "      <th>replace</th>\n",
       "    </tr>\n",
       "  </thead>\n",
       "  <tbody>\n",
       "    <tr>\n",
       "      <td>0</td>\n",
       "      <td>2013-09-12</td>\n",
       "      <td>1100</td>\n",
       "      <td>25</td>\n",
       "      <td>0</td>\n",
       "    </tr>\n",
       "    <tr>\n",
       "      <td>1</td>\n",
       "      <td>2013-09-12</td>\n",
       "      <td>5103</td>\n",
       "      <td>160</td>\n",
       "      <td>0</td>\n",
       "    </tr>\n",
       "    <tr>\n",
       "      <td>2</td>\n",
       "      <td>2013-09-12</td>\n",
       "      <td>9029</td>\n",
       "      <td>54</td>\n",
       "      <td>0</td>\n",
       "    </tr>\n",
       "    <tr>\n",
       "      <td>3</td>\n",
       "      <td>2013-09-12</td>\n",
       "      <td>1097</td>\n",
       "      <td>105</td>\n",
       "      <td>0</td>\n",
       "    </tr>\n",
       "    <tr>\n",
       "      <td>4</td>\n",
       "      <td>2013-09-12</td>\n",
       "      <td>1038</td>\n",
       "      <td>88</td>\n",
       "      <td>0</td>\n",
       "    </tr>\n",
       "  </tbody>\n",
       "</table>\n",
       "</div>"
      ],
      "text/plain": [
       "        date   cow intervalR  replace\n",
       "0 2013-09-12  1100        25        0\n",
       "1 2013-09-12  5103       160        0\n",
       "2 2013-09-12  9029        54        0\n",
       "3 2013-09-12  1097       105        0\n",
       "4 2013-09-12  1038        88        0"
      ]
     },
     "execution_count": 5,
     "metadata": {},
     "output_type": "execute_result"
    }
   ],
   "source": [
    "# import data back with electronically generated data paired with video data\n",
    "final = pd.read_csv('paired.csv')\n",
    "final['date'] = pd.to_datetime(final['date'], dayfirst = True)\n",
    "final.head()"
   ]
  },
  {
   "cell_type": "code",
   "execution_count": 6,
   "metadata": {},
   "outputs": [],
   "source": [
    "#delete events where cow entered same bin again herself\n",
    "final.drop(final[final['intervalR'] == '.'].index, inplace=True)"
   ]
  },
  {
   "cell_type": "markdown",
   "metadata": {},
   "source": [
    "# Exploratory Data Analysis"
   ]
  },
  {
   "cell_type": "code",
   "execution_count": 7,
   "metadata": {},
   "outputs": [
    {
     "name": "stdout",
     "output_type": "stream",
     "text": [
      "Number of rows: 1414\n",
      "Number of columns: 4\n"
     ]
    }
   ],
   "source": [
    "# number of rows and columns\n",
    "print('Number of rows:', final.shape[0])\n",
    "print('Number of columns:', final.shape[-1])"
   ]
  },
  {
   "cell_type": "code",
   "execution_count": 8,
   "metadata": {},
   "outputs": [
    {
     "name": "stdout",
     "output_type": "stream",
     "text": [
      "<class 'pandas.core.frame.DataFrame'>\n",
      "Int64Index: 1414 entries, 0 to 1975\n",
      "Data columns (total 4 columns):\n",
      "date         1414 non-null datetime64[ns]\n",
      "cow          1414 non-null int64\n",
      "intervalR    1414 non-null object\n",
      "replace      1414 non-null int64\n",
      "dtypes: datetime64[ns](1), int64(2), object(1)\n",
      "memory usage: 55.2+ KB\n"
     ]
    }
   ],
   "source": [
    "# what are the data types\n",
    "final.info()"
   ]
  },
  {
   "cell_type": "code",
   "execution_count": 9,
   "metadata": {},
   "outputs": [],
   "source": [
    "# fix data types\n",
    "final['intervalR']=final['intervalR'].astype(int)\n",
    "final['cow']=final['cow'].astype('category')"
   ]
  },
  {
   "cell_type": "code",
   "execution_count": 10,
   "metadata": {},
   "outputs": [
    {
     "data": {
      "text/plain": [
       "date         0.0\n",
       "cow          0.0\n",
       "intervalR    0.0\n",
       "replace      0.0\n",
       "dtype: float64"
      ]
     },
     "execution_count": 10,
     "metadata": {},
     "output_type": "execute_result"
    }
   ],
   "source": [
    "# check that there are no missing values\n",
    "np.mean(final.isna(), axis = 0)"
   ]
  },
  {
   "cell_type": "code",
   "execution_count": 11,
   "metadata": {},
   "outputs": [
    {
     "data": {
      "text/html": [
       "<div>\n",
       "<style scoped>\n",
       "    .dataframe tbody tr th:only-of-type {\n",
       "        vertical-align: middle;\n",
       "    }\n",
       "\n",
       "    .dataframe tbody tr th {\n",
       "        vertical-align: top;\n",
       "    }\n",
       "\n",
       "    .dataframe thead th {\n",
       "        text-align: right;\n",
       "    }\n",
       "</style>\n",
       "<table border=\"1\" class=\"dataframe\">\n",
       "  <thead>\n",
       "    <tr style=\"text-align: right;\">\n",
       "      <th></th>\n",
       "      <th>intervalR</th>\n",
       "      <th>replace</th>\n",
       "    </tr>\n",
       "  </thead>\n",
       "  <tbody>\n",
       "    <tr>\n",
       "      <td>count</td>\n",
       "      <td>1414.00000</td>\n",
       "      <td>1414.000000</td>\n",
       "    </tr>\n",
       "    <tr>\n",
       "      <td>mean</td>\n",
       "      <td>362.06082</td>\n",
       "      <td>0.160537</td>\n",
       "    </tr>\n",
       "    <tr>\n",
       "      <td>std</td>\n",
       "      <td>706.90486</td>\n",
       "      <td>0.367234</td>\n",
       "    </tr>\n",
       "    <tr>\n",
       "      <td>min</td>\n",
       "      <td>9.00000</td>\n",
       "      <td>0.000000</td>\n",
       "    </tr>\n",
       "    <tr>\n",
       "      <td>25%</td>\n",
       "      <td>29.00000</td>\n",
       "      <td>0.000000</td>\n",
       "    </tr>\n",
       "    <tr>\n",
       "      <td>50%</td>\n",
       "      <td>101.00000</td>\n",
       "      <td>0.000000</td>\n",
       "    </tr>\n",
       "    <tr>\n",
       "      <td>75%</td>\n",
       "      <td>363.75000</td>\n",
       "      <td>0.000000</td>\n",
       "    </tr>\n",
       "    <tr>\n",
       "      <td>max</td>\n",
       "      <td>7336.00000</td>\n",
       "      <td>1.000000</td>\n",
       "    </tr>\n",
       "  </tbody>\n",
       "</table>\n",
       "</div>"
      ],
      "text/plain": [
       "        intervalR      replace\n",
       "count  1414.00000  1414.000000\n",
       "mean    362.06082     0.160537\n",
       "std     706.90486     0.367234\n",
       "min       9.00000     0.000000\n",
       "25%      29.00000     0.000000\n",
       "50%     101.00000     0.000000\n",
       "75%     363.75000     0.000000\n",
       "max    7336.00000     1.000000"
      ]
     },
     "execution_count": 11,
     "metadata": {},
     "output_type": "execute_result"
    }
   ],
   "source": [
    "# some descriptive statistics for interval and replace\n",
    "final[['intervalR','replace']].describe()"
   ]
  },
  {
   "cell_type": "code",
   "execution_count": 12,
   "metadata": {},
   "outputs": [
    {
     "name": "stdout",
     "output_type": "stream",
     "text": [
      "Number of animals: 20\n"
     ]
    }
   ],
   "source": [
    "# how many animals are there?\n",
    "print('Number of animals:', final['cow'].nunique())"
   ]
  },
  {
   "cell_type": "code",
   "execution_count": 13,
   "metadata": {},
   "outputs": [
    {
     "name": "stdout",
     "output_type": "stream",
     "text": [
      "Number of days: 4\n",
      "Start date: 2013-09-12 00:00:00\n",
      "End date: 2013-09-15 00:00:00\n"
     ]
    }
   ],
   "source": [
    "# date range\n",
    "print('Number of days:', final['date'].nunique())\n",
    "print('Start date:', final['date'].min())\n",
    "print('End date:', final['date'].max())"
   ]
  },
  {
   "cell_type": "code",
   "execution_count": 14,
   "metadata": {},
   "outputs": [
    {
     "data": {
      "text/plain": [
       "0    1187\n",
       "1     227\n",
       "Name: replace, dtype: int64"
      ]
     },
     "execution_count": 14,
     "metadata": {},
     "output_type": "execute_result"
    }
   ],
   "source": [
    "# how many positive and negative replace events are there?\n",
    "final['replace'].value_counts()"
   ]
  },
  {
   "cell_type": "markdown",
   "metadata": {},
   "source": [
    "Finding: Negative events greatly outweigh positive events"
   ]
  },
  {
   "cell_type": "code",
   "execution_count": 15,
   "metadata": {},
   "outputs": [
    {
     "name": "stdout",
     "output_type": "stream",
     "text": [
      "Total number of events: 227\n"
     ]
    },
    {
     "data": {
      "text/plain": [
       "date\n",
       "2013-09-12    73\n",
       "2013-09-13    42\n",
       "2013-09-14    82\n",
       "2013-09-15    30\n",
       "Name: replace, dtype: int64"
      ]
     },
     "execution_count": 15,
     "metadata": {},
     "output_type": "execute_result"
    }
   ],
   "source": [
    "# how many events occur on each day?\n",
    "print('Total number of events:', final['replace'].sum())\n",
    "final.groupby('date')['replace'].sum()"
   ]
  },
  {
   "cell_type": "code",
   "execution_count": 16,
   "metadata": {},
   "outputs": [
    {
     "data": {
      "text/plain": [
       "Text(0, 0.5, 'Total number of replacements')"
      ]
     },
     "execution_count": 16,
     "metadata": {},
     "output_type": "execute_result"
    },
    {
     "data": {
      "image/png": "[encoded data removed]",
      "text/plain": [
       "<Figure size 432x288 with 1 Axes>"
      ]
     },
     "metadata": {
      "needs_background": "light"
     },
     "output_type": "display_data"
    }
   ],
   "source": [
    "# how do events vary by animal?\n",
    "final.groupby('cow')['replace'].sum().plot.bar()\n",
    "plt.ylabel('Total number of replacements')"
   ]
  },
  {
   "cell_type": "markdown",
   "metadata": {},
   "source": [
    "Finding: replace behaviour varies between animals"
   ]
  },
  {
   "cell_type": "code",
   "execution_count": 17,
   "metadata": {},
   "outputs": [
    {
     "data": {
      "image/png": "[encoded data removed]",
      "text/plain": [
       "<Figure size 432x288 with 1 Axes>"
      ]
     },
     "metadata": {
      "needs_background": "light"
     },
     "output_type": "display_data"
    }
   ],
   "source": [
    "# histogram of replace events in training data\n",
    "from matplotlib.ticker import PercentFormatter\n",
    "\n",
    "replace = final[final['replace'] == 1]\n",
    "nonreplace = final[final['replace'] == 0]\n",
    "\n",
    "plt.hist(nonreplace['intervalR'], weights=np.ones(len(nonreplace)) / len(nonreplace), color='b',bins = 600, alpha = 0.5, label='Nonreplace')\n",
    "plt.hist(replace['intervalR'], weights=np.ones(len(replace)) / len(replace), color='r', bins = 20,alpha = 0.5, label='Replace')\n",
    "plt.gca().yaxis.set_major_formatter(PercentFormatter(1))\n",
    "plt.xlim(0,300) # narrow in here to make it more interpretable\n",
    "plt.xlabel('Interval (s)')\n",
    "plt.ylabel('Percentage')\n",
    "plt.title('Histogram of interval for replace and nonreplace events')\n",
    "plt.legend()\n",
    "plt.show()"
   ]
  },
  {
   "cell_type": "markdown",
   "metadata": {},
   "source": [
    "Finding: postive replace events have shorter intervals"
   ]
  },
  {
   "cell_type": "code",
   "execution_count": 18,
   "metadata": {},
   "outputs": [
    {
     "data": {
      "text/html": [
       "<div>\n",
       "<style scoped>\n",
       "    .dataframe tbody tr th:only-of-type {\n",
       "        vertical-align: middle;\n",
       "    }\n",
       "\n",
       "    .dataframe tbody tr th {\n",
       "        vertical-align: top;\n",
       "    }\n",
       "\n",
       "    .dataframe thead th {\n",
       "        text-align: right;\n",
       "    }\n",
       "</style>\n",
       "<table border=\"1\" class=\"dataframe\">\n",
       "  <thead>\n",
       "    <tr style=\"text-align: right;\">\n",
       "      <th></th>\n",
       "      <th>count</th>\n",
       "      <th>mean</th>\n",
       "      <th>std</th>\n",
       "      <th>min</th>\n",
       "      <th>25%</th>\n",
       "      <th>50%</th>\n",
       "      <th>75%</th>\n",
       "      <th>max</th>\n",
       "    </tr>\n",
       "    <tr>\n",
       "      <th>replace</th>\n",
       "      <th></th>\n",
       "      <th></th>\n",
       "      <th></th>\n",
       "      <th></th>\n",
       "      <th></th>\n",
       "      <th></th>\n",
       "      <th></th>\n",
       "      <th></th>\n",
       "    </tr>\n",
       "  </thead>\n",
       "  <tbody>\n",
       "    <tr>\n",
       "      <td>0</td>\n",
       "      <td>1187.0</td>\n",
       "      <td>427.182814</td>\n",
       "      <td>754.249466</td>\n",
       "      <td>9.0</td>\n",
       "      <td>48.0</td>\n",
       "      <td>151.0</td>\n",
       "      <td>477.5</td>\n",
       "      <td>7336.0</td>\n",
       "    </tr>\n",
       "    <tr>\n",
       "      <td>1</td>\n",
       "      <td>227.0</td>\n",
       "      <td>21.533040</td>\n",
       "      <td>12.210633</td>\n",
       "      <td>9.0</td>\n",
       "      <td>12.0</td>\n",
       "      <td>20.0</td>\n",
       "      <td>25.5</td>\n",
       "      <td>85.0</td>\n",
       "    </tr>\n",
       "  </tbody>\n",
       "</table>\n",
       "</div>"
      ],
      "text/plain": [
       "          count        mean         std  min   25%    50%    75%     max\n",
       "replace                                                                 \n",
       "0        1187.0  427.182814  754.249466  9.0  48.0  151.0  477.5  7336.0\n",
       "1         227.0   21.533040   12.210633  9.0  12.0   20.0   25.5    85.0"
      ]
     },
     "execution_count": 18,
     "metadata": {},
     "output_type": "execute_result"
    }
   ],
   "source": [
    "# descriptive statistics of positive and negative replace event for intervalR\n",
    "final.groupby('replace')['intervalR'].describe()"
   ]
  },
  {
   "cell_type": "markdown",
   "metadata": {},
   "source": [
    "# Logistic Regression and ROC Curve Analysis"
   ]
  },
  {
   "cell_type": "code",
   "execution_count": 19,
   "metadata": {},
   "outputs": [
    {
     "name": "stderr",
     "output_type": "stream",
     "text": [
      "Using TensorFlow backend.\n"
     ]
    }
   ],
   "source": [
    "# import libraries\n",
    "from imblearn.over_sampling import SMOTE\n",
    "from collections import Counter\n",
    "from sklearn.linear_model import LogisticRegression\n",
    "from sklearn.model_selection import train_test_split\n",
    "from sklearn.metrics import classification_report\n",
    "from sklearn.metrics import confusion_matrix\n",
    "from sklearn.metrics import recall_score\n",
    "from sklearn.metrics import f1_score\n",
    "from sklearn.metrics import accuracy_score"
   ]
  },
  {
   "cell_type": "code",
   "execution_count": 20,
   "metadata": {},
   "outputs": [],
   "source": [
    "# split into 2 days of training data and 2 days of test data\n",
    "train = final[(final['date'] == '2013-09-13') | (final['date'] == '2013-09-14')]\n",
    "test = final[(final['date'] == '2013-09-12') | (final['date'] == '2013-09-15')]"
   ]
  },
  {
   "cell_type": "code",
   "execution_count": 21,
   "metadata": {},
   "outputs": [],
   "source": [
    "# split into X and y train and test\n",
    "X_train = train[['intervalR']]\n",
    "y_train = train['replace']\n",
    "X_test = test[['intervalR']]\n",
    "y_test = test['replace']"
   ]
  },
  {
   "cell_type": "code",
   "execution_count": 22,
   "metadata": {},
   "outputs": [
    {
     "data": {
      "text/plain": [
       "Counter({0: 621, 1: 124})"
      ]
     },
     "execution_count": 22,
     "metadata": {},
     "output_type": "execute_result"
    }
   ],
   "source": [
    "# check class counts\n",
    "Counter(y_train)"
   ]
  },
  {
   "cell_type": "code",
   "execution_count": 23,
   "metadata": {},
   "outputs": [],
   "source": [
    "# fix class imbalance with SMOTE (moreinfo = http://rikunert.com/SMOTE_explained)\n",
    "sm = SMOTE(random_state=1)\n",
    "X_bal, y_bal = sm.fit_resample(X_train, y_train)"
   ]
  },
  {
   "cell_type": "code",
   "execution_count": 24,
   "metadata": {},
   "outputs": [
    {
     "data": {
      "text/plain": [
       "Counter({0: 621, 1: 621})"
      ]
     },
     "execution_count": 24,
     "metadata": {},
     "output_type": "execute_result"
    }
   ],
   "source": [
    "# re-check class counts\n",
    "Counter(y_bal)"
   ]
  },
  {
   "cell_type": "code",
   "execution_count": 25,
   "metadata": {},
   "outputs": [
    {
     "name": "stdout",
     "output_type": "stream",
     "text": [
      "Training accuracy: 0.8373590982286635\n"
     ]
    }
   ],
   "source": [
    "# initiate and fit logistic regression model\n",
    "model = LogisticRegression(random_state = 1) \n",
    "model.fit(X_bal, y_bal)\n",
    "print('Training accuracy:', model.score(X_bal, y_bal))"
   ]
  },
  {
   "cell_type": "code",
   "execution_count": 26,
   "metadata": {},
   "outputs": [
    {
     "name": "stdout",
     "output_type": "stream",
     "text": [
      "True negatives: 464\n",
      "False positives: 157\n",
      "False negatives: 45\n",
      "True negative: 464\n"
     ]
    }
   ],
   "source": [
    "# look at confusion matrix of training set\n",
    "y_pred = model.predict(X_bal)\n",
    "tn, fp, fn, tp = confusion_matrix(y_bal, y_pred).ravel()\n",
    "print('True negatives:', tn)\n",
    "print('False positives:', fp)\n",
    "print('False negatives:', fn)\n",
    "print('True negative:', tn)"
   ]
  },
  {
   "cell_type": "code",
   "execution_count": 27,
   "metadata": {},
   "outputs": [
    {
     "name": "stdout",
     "output_type": "stream",
     "text": [
      "              precision    recall  f1-score   support\n",
      "\n",
      "           0       0.91      0.75      0.82       621\n",
      "           1       0.79      0.93      0.85       621\n",
      "\n",
      "    accuracy                           0.84      1242\n",
      "   macro avg       0.85      0.84      0.84      1242\n",
      "weighted avg       0.85      0.84      0.84      1242\n",
      "\n"
     ]
    }
   ],
   "source": [
    "# get the classification report of training set\n",
    "print(classification_report(y_bal, y_pred))"
   ]
  },
  {
   "cell_type": "markdown",
   "metadata": {},
   "source": [
    "Findings: For the training set - good accuracy of 84%, good precision of 80% (proportion of model assigned to positive that are actually members of the positive class), good recall of 93% (how many members of the positive class the model correctly identified out of the total), and good f1-score of 85% (harmonic average of precision and recall).\n",
    "\n",
    "Let's visualize the model with a receiver operating characteristic curve"
   ]
  },
  {
   "cell_type": "code",
   "execution_count": 28,
   "metadata": {
    "scrolled": true
   },
   "outputs": [
    {
     "data": {
      "image/png": "[encoded data removed]",
      "text/plain": [
       "<Figure size 432x288 with 1 Axes>"
      ]
     },
     "metadata": {
      "needs_background": "light"
     },
     "output_type": "display_data"
    },
    {
     "name": "stdout",
     "output_type": "stream",
     "text": [
      "Area under curve (AUC):0.9081827399057674\n",
      "\n"
     ]
    }
   ],
   "source": [
    "# create ROC curve for training set\n",
    "from sklearn.metrics import roc_curve, roc_auc_score\n",
    "\n",
    "y_proba_train = model.predict_proba(X_bal)[:,1]\n",
    "\n",
    "fprs_train, tprs_train, thresholds_train = roc_curve(y_bal, y_proba_train)\n",
    "roc_auc_train = roc_auc_score(y_bal, y_proba_train)\n",
    "\n",
    "plt.figure()\n",
    "plt.plot(fprs_train, tprs_train, color='darkorange',\n",
    "         lw=2, label='AUC = %0.2f' % roc_auc_train)\n",
    "plt.plot([0, 1], [0, 1], color='navy', lw=2, linestyle='--')\n",
    "plt.xlabel('False Positive Rate (FPR)')\n",
    "plt.ylabel('True Positive Rate (TPR)')\n",
    "plt.title('ROC Curve for Replacement Prediction in Training Set')\n",
    "plt.legend(loc=\"best\")\n",
    "plt.show()\n",
    "\n",
    "print(f'Area under curve (AUC):{roc_auc_train}')\n",
    "print()"
   ]
  },
  {
   "cell_type": "markdown",
   "metadata": {},
   "source": [
    "There are multiple ways to pick an optimal threshold. Because of the class imbalance (negative events are expected to always outweigh positive events), more importance should be placed on minimizing false positives than false negatives. A metric such as Youden's Index (sensitivity + specificty - 1) places equal weight on avoiding false positives and false negatives so will not be the best choice in this scenario. \n",
    "\n",
    "The optimal threshold will be chosen as the point where sensitivity roughly equals specificity."
   ]
  },
  {
   "cell_type": "code",
   "execution_count": 29,
   "metadata": {},
   "outputs": [
    {
     "data": {
      "text/html": [
       "<div>\n",
       "<style scoped>\n",
       "    .dataframe tbody tr th:only-of-type {\n",
       "        vertical-align: middle;\n",
       "    }\n",
       "\n",
       "    .dataframe tbody tr th {\n",
       "        vertical-align: top;\n",
       "    }\n",
       "\n",
       "    .dataframe thead th {\n",
       "        text-align: right;\n",
       "    }\n",
       "</style>\n",
       "<table border=\"1\" class=\"dataframe\">\n",
       "  <thead>\n",
       "    <tr style=\"text-align: right;\">\n",
       "      <th></th>\n",
       "      <th>threshold</th>\n",
       "      <th>sp</th>\n",
       "      <th>se</th>\n",
       "      <th>diff</th>\n",
       "    </tr>\n",
       "  </thead>\n",
       "  <tbody>\n",
       "    <tr>\n",
       "      <td>0</td>\n",
       "      <td>7.071603e-01</td>\n",
       "      <td>0.829308</td>\n",
       "      <td>0.827697</td>\n",
       "      <td>0.001610</td>\n",
       "    </tr>\n",
       "    <tr>\n",
       "      <td>1</td>\n",
       "      <td>7.202772e-01</td>\n",
       "      <td>0.840580</td>\n",
       "      <td>0.818035</td>\n",
       "      <td>0.022544</td>\n",
       "    </tr>\n",
       "    <tr>\n",
       "      <td>2</td>\n",
       "      <td>6.936899e-01</td>\n",
       "      <td>0.818035</td>\n",
       "      <td>0.842190</td>\n",
       "      <td>0.024155</td>\n",
       "    </tr>\n",
       "    <tr>\n",
       "      <td>3</td>\n",
       "      <td>7.330283e-01</td>\n",
       "      <td>0.850242</td>\n",
       "      <td>0.809984</td>\n",
       "      <td>0.040258</td>\n",
       "    </tr>\n",
       "    <tr>\n",
       "      <td>4</td>\n",
       "      <td>6.798804e-01</td>\n",
       "      <td>0.801932</td>\n",
       "      <td>0.856683</td>\n",
       "      <td>0.054750</td>\n",
       "    </tr>\n",
       "    <tr>\n",
       "      <td>...</td>\n",
       "      <td>...</td>\n",
       "      <td>...</td>\n",
       "      <td>...</td>\n",
       "      <td>...</td>\n",
       "    </tr>\n",
       "    <tr>\n",
       "      <td>155</td>\n",
       "      <td>8.971294e-01</td>\n",
       "      <td>0.993559</td>\n",
       "      <td>0.082126</td>\n",
       "      <td>0.911433</td>\n",
       "    </tr>\n",
       "    <tr>\n",
       "      <td>156</td>\n",
       "      <td>1.853774e-52</td>\n",
       "      <td>0.049919</td>\n",
       "      <td>1.000000</td>\n",
       "      <td>0.950081</td>\n",
       "    </tr>\n",
       "    <tr>\n",
       "      <td>157</td>\n",
       "      <td>2.375609e-53</td>\n",
       "      <td>0.046699</td>\n",
       "      <td>1.000000</td>\n",
       "      <td>0.953301</td>\n",
       "    </tr>\n",
       "    <tr>\n",
       "      <td>158</td>\n",
       "      <td>1.897129e+00</td>\n",
       "      <td>1.000000</td>\n",
       "      <td>0.000000</td>\n",
       "      <td>1.000000</td>\n",
       "    </tr>\n",
       "    <tr>\n",
       "      <td>159</td>\n",
       "      <td>4.324403e-204</td>\n",
       "      <td>0.000000</td>\n",
       "      <td>1.000000</td>\n",
       "      <td>1.000000</td>\n",
       "    </tr>\n",
       "  </tbody>\n",
       "</table>\n",
       "<p>160 rows × 4 columns</p>\n",
       "</div>"
      ],
      "text/plain": [
       "         threshold        sp        se      diff\n",
       "0     7.071603e-01  0.829308  0.827697  0.001610\n",
       "1     7.202772e-01  0.840580  0.818035  0.022544\n",
       "2     6.936899e-01  0.818035  0.842190  0.024155\n",
       "3     7.330283e-01  0.850242  0.809984  0.040258\n",
       "4     6.798804e-01  0.801932  0.856683  0.054750\n",
       "..             ...       ...       ...       ...\n",
       "155   8.971294e-01  0.993559  0.082126  0.911433\n",
       "156   1.853774e-52  0.049919  1.000000  0.950081\n",
       "157   2.375609e-53  0.046699  1.000000  0.953301\n",
       "158   1.897129e+00  1.000000  0.000000  1.000000\n",
       "159  4.324403e-204  0.000000  1.000000  1.000000\n",
       "\n",
       "[160 rows x 4 columns]"
      ]
     },
     "execution_count": 29,
     "metadata": {},
     "output_type": "execute_result"
    }
   ],
   "source": [
    "# create dataframe of different thresholds and corresponding sensitivity and specificity\n",
    "thres_sp_se_train = pd.DataFrame(np.vstack((thresholds_train,(1-fprs_train), tprs_train, ((1-fprs_train)-tprs_train)))).T.apply(pd.to_numeric)\n",
    "thres_sp_se_train.columns=['threshold','sp','se', 'diff']\n",
    "thres_sp_se_train['diff'] = abs(thres_sp_se_train['diff']) # get absolute value to find smallest difference\n",
    "thres_sp_se_train = thres_sp_se_train.sort_values(by = 'diff').reset_index(drop=True)\n",
    "thres_sp_se_train"
   ]
  },
  {
   "cell_type": "code",
   "execution_count": 30,
   "metadata": {},
   "outputs": [
    {
     "name": "stdout",
     "output_type": "stream",
     "text": [
      "The probability threshold where sensitivity roughly equals sensitivity is: 0.7071603133696072\n"
     ]
    }
   ],
   "source": [
    "# get value for optimal threshold where sensitivity roughly equals specificity\n",
    "optimal_threshold = thres_sp_se_train.iat[0,0]\n",
    "print('The probability threshold where sensitivity roughly equals sensitivity is:', optimal_threshold)"
   ]
  },
  {
   "cell_type": "markdown",
   "metadata": {},
   "source": [
    "The optimal probability threshold is 71% (higher than the default threshold of 50%) in the training set.\n",
    "\n",
    "Let's see how this threshold performs in the test set."
   ]
  },
  {
   "cell_type": "code",
   "execution_count": 31,
   "metadata": {},
   "outputs": [
    {
     "data": {
      "image/png": "[encoded data removed]",
      "text/plain": [
       "<Figure size 432x288 with 1 Axes>"
      ]
     },
     "metadata": {
      "needs_background": "light"
     },
     "output_type": "display_data"
    },
    {
     "name": "stdout",
     "output_type": "stream",
     "text": [
      "Area under curve (AUC):0.9377251363683146\n",
      "\n"
     ]
    }
   ],
   "source": [
    "# create ROC curve for test set\n",
    "y_proba_test = model.predict_proba(X_test)[:,1]\n",
    "\n",
    "fprs_test, tprs_test, thresholds_test = roc_curve(y_test, y_proba_test)\n",
    "roc_auc_test = roc_auc_score(y_test, y_proba_test)\n",
    "\n",
    "plt.figure()\n",
    "plt.plot(fprs_test, tprs_test, color='darkorange',\n",
    "         lw=2, label='AUC = %0.2f' % roc_auc_test)\n",
    "plt.plot([0, 1], [0, 1], color='navy', lw=2, linestyle='--')\n",
    "plt.xlabel('False Positive Rate (FPR)')\n",
    "plt.ylabel('True Positive Rate (TPR)')\n",
    "plt.title('ROC Curve for Replacement Prediction in Test Set')\n",
    "plt.legend(loc=\"best\")\n",
    "plt.show()\n",
    "\n",
    "print(f'Area under curve (AUC):{roc_auc_test}')\n",
    "print()"
   ]
  },
  {
   "cell_type": "code",
   "execution_count": 32,
   "metadata": {},
   "outputs": [
    {
     "data": {
      "text/html": [
       "<div>\n",
       "<style scoped>\n",
       "    .dataframe tbody tr th:only-of-type {\n",
       "        vertical-align: middle;\n",
       "    }\n",
       "\n",
       "    .dataframe tbody tr th {\n",
       "        vertical-align: top;\n",
       "    }\n",
       "\n",
       "    .dataframe thead th {\n",
       "        text-align: right;\n",
       "    }\n",
       "</style>\n",
       "<table border=\"1\" class=\"dataframe\">\n",
       "  <thead>\n",
       "    <tr style=\"text-align: right;\">\n",
       "      <th></th>\n",
       "      <th>threshold</th>\n",
       "      <th>sp</th>\n",
       "      <th>se</th>\n",
       "      <th>diff</th>\n",
       "    </tr>\n",
       "  </thead>\n",
       "  <tbody>\n",
       "    <tr>\n",
       "      <td>3</td>\n",
       "      <td>0.70716</td>\n",
       "      <td>0.888693</td>\n",
       "      <td>0.854369</td>\n",
       "      <td>0.034324</td>\n",
       "    </tr>\n",
       "  </tbody>\n",
       "</table>\n",
       "</div>"
      ],
      "text/plain": [
       "   threshold        sp        se      diff\n",
       "3    0.70716  0.888693  0.854369  0.034324"
      ]
     },
     "execution_count": 32,
     "metadata": {},
     "output_type": "execute_result"
    }
   ],
   "source": [
    "# get the sensitivity and specificity of the 70% probability threshold for the test set\n",
    "thres_sp_se_test = pd.DataFrame(np.vstack((thresholds_test,(1-fprs_test), tprs_test, ((1-fprs_test)-tprs_test)))).T.apply(pd.to_numeric)\n",
    "thres_sp_se_test.columns=['threshold','sp','se', 'diff']\n",
    "thres_sp_se_test['diff'] = abs(thres_sp_se_test['diff']) # get absolute value to find smallest difference\n",
    "thres_sp_se_test = thres_sp_se_test.sort_values(by = 'diff').reset_index(drop=True)\n",
    "thres_sp_se_test.loc[thres_sp_se_test['threshold'] == optimal_threshold]"
   ]
  },
  {
   "cell_type": "markdown",
   "metadata": {},
   "source": [
    "The optimal probability threshold of 70% identified in the training set performs well on the test set with a specificty of 89% and a sensitivity of 85%"
   ]
  }
 ],
 "metadata": {
  "kernelspec": {
   "display_name": "Python 3",
   "language": "python",
   "name": "python3"
  },
  "language_info": {
   "codemirror_mode": {
    "name": "ipython",
    "version": 3
   },
   "file_extension": ".py",
   "mimetype": "text/x-python",
   "name": "python",
   "nbconvert_exporter": "python",
   "pygments_lexer": "ipython3",
   "version": "3.7.4"
  }
 },
 "nbformat": 4,
 "nbformat_minor": 2
}
